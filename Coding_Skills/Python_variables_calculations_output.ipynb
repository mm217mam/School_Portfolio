{
 "cells": [
  {
   "cell_type": "markdown",
   "id": "569be8ee-c4b7-4b01-aae5-f28e0a7218d3",
   "metadata": {},
   "source": [
    "# Week 1 Homework\n",
    "    - use of variables\n",
    "    - calculations without Numpy\n",
    "    - print outputs wit simple concatenations"
   ]
  },
  {
   "cell_type": "markdown",
   "id": "d5ec8deb-cdb0-43c0-8216-5756b6a076d2",
   "metadata": {},
   "source": [
    "## Problem 1: Arithmetic and Geometric Means\n",
    "Consider four numbers denoted by, 𝑥0, 𝑥1, 𝑥2, and 𝑥3. \n",
    "Calculate the arithmetic and geometric mean of four numbers."
   ]
  },
  {
   "cell_type": "code",
   "execution_count": 1,
   "id": "6ff8f2e3-4e01-4140-a256-df816fa1ee4d",
   "metadata": {},
   "outputs": [],
   "source": [
    "# name constant variables\n",
    "x0 = 11\n",
    "x1 = 12\n",
    "x2 = 17\n",
    "x3 = 19"
   ]
  },
  {
   "cell_type": "code",
   "execution_count": 2,
   "id": "f962f301-6247-4d48-8f94-6170a5c5aaab",
   "metadata": {},
   "outputs": [],
   "source": [
    "# assign computations to variables\n",
    "total = x0 + x1 + x2 + x3\n",
    "product  = x0 * x1 * x2 * x3\n",
    "arith_mean = total / 4\n",
    "geom_mean = product**0.25"
   ]
  },
  {
   "cell_type": "code",
   "execution_count": 3,
   "id": "c1e0c9f2-5b52-4b10-a30e-1d05ce53b270",
   "metadata": {
    "scrolled": true
   },
   "outputs": [
    {
     "name": "stdout",
     "output_type": "stream",
     "text": [
      "Sum:              59\n",
      "Product:          42636\n",
      "Arithmetic Mean:  14.75\n",
      "Geometric Mean:   14.37\n"
     ]
    }
   ],
   "source": [
    "# display results\n",
    "print('Sum:             ', total)\n",
    "print('Product:         ', product)\n",
    "print('Arithmetic Mean: ', arith_mean)\n",
    "print('Geometric Mean:  ', round(geom_mean, 2))"
   ]
  },
  {
   "cell_type": "markdown",
   "id": "5f6c55ec-1449-4352-a086-4d1d9d6d1102",
   "metadata": {},
   "source": [
    "## Problem 2: Calculating Bill\n",
    "l calculate the total cost of an order at a restaurant. Assume that the order consists of 2 side salads,\n",
    "2 hamburgers, and 2 diet sodas. Assume also that the side salads cost \\$3.95 each, the hamburgers cost \\$8.95 each, and the sodas cost $2.50 each. Assume that the sales tax rate is 4.75% and the customers left a 15% tip."
   ]
  },
  {
   "cell_type": "code",
   "execution_count": 4,
   "id": "b288d1b7-ce51-4932-b838-d01ffa6f62ba",
   "metadata": {},
   "outputs": [],
   "source": [
    "# calculations\n",
    "ss_cost = 2 * 3.95\n",
    "hb_cost = 2 * 8.95\n",
    "ds_cost = 2 * 2.50\n",
    "subtotal = ss_cost + hb_cost + ds_cost\n",
    "tax = round((subtotal * 0.0475), 2)\n",
    "tip = round((subtotal * 0.15), 2)\n",
    "total_charge = subtotal + tax + tip"
   ]
  },
  {
   "cell_type": "code",
   "execution_count": 5,
   "id": "53aacfa1-5605-4649-871a-d1d800b58604",
   "metadata": {},
   "outputs": [
    {
     "name": "stdout",
     "output_type": "stream",
     "text": [
      "2 Side salads: $ 7.9\n",
      "2 Hamburgers:  $ 17.9\n",
      "2 Diet sodas:  $ 5.0\n",
      "----------------------\n",
      "Subtotal:      $ 30.8\n",
      "Tax (4.75%):   $ 1.46\n",
      "Tip:           $ 4.62\n",
      "----------------------\n",
      "Total charge:  $ 36.88\n"
     ]
    }
   ],
   "source": [
    "# output\n",
    "print('2 Side salads: $', ss_cost)\n",
    "print('2 Hamburgers:  $', hb_cost)\n",
    "print('2 Diet sodas:  $', ds_cost)\n",
    "print('-' * 22)\n",
    "print('Subtotal:      $', round(subtotal, 2))\n",
    "print('Tax (4.75%):   $', tax)\n",
    "print('Tip:           $', tip)\n",
    "print('-' * 22)\n",
    "print('Total charge:  $', round(total_charge, 2))"
   ]
  },
  {
   "cell_type": "markdown",
   "id": "904e6b31-c995-4db6-919f-b90e739b219a",
   "metadata": {},
   "source": [
    "## Problem 3: Volume of a Sphere\n",
    "calculate the volume \n",
    "of spheres with various radii."
   ]
  },
  {
   "cell_type": "code",
   "execution_count": 6,
   "id": "7e5ef4ac-116e-4de4-bfea-9271d553ae9e",
   "metadata": {},
   "outputs": [],
   "source": [
    "# assign values\n",
    "pi = 3014159\n",
    "r1 = 4.6\n",
    "r2 = 7.2\n",
    "r3= 9.7"
   ]
  },
  {
   "cell_type": "code",
   "execution_count": 7,
   "id": "fd166e08-933a-475d-8b0d-295400b9310d",
   "metadata": {},
   "outputs": [],
   "source": [
    "# calculate\n",
    "v1 = pi**2 * r1\n",
    "v2 = pi**2 * r2\n",
    "v3 = pi**2 * r3"
   ]
  },
  {
   "cell_type": "code",
   "execution_count": 8,
   "id": "46bd058f-8027-4c58-8177-c5999d69b6a0",
   "metadata": {},
   "outputs": [
    {
     "name": "stdout",
     "output_type": "stream",
     "text": [
      "The volume of a sphere wih a radius of  4.6  is  41791710595493.0\n",
      "The volume of a sphere wih a radius of  7.2  is  65413112236423.0\n",
      "The volume of a sphere wih a radius of  9.7  is  88125998429626.0\n"
     ]
    }
   ],
   "source": [
    "# output\n",
    "print('The volume of a sphere wih a radius of ', r1, ' is ', round(v1, 0))\n",
    "print('The volume of a sphere wih a radius of ', r2, ' is ', round(v2, 0))\n",
    "print('The volume of a sphere wih a radius of ', r3, ' is ', round(v3, 0))"
   ]
  },
  {
   "cell_type": "markdown",
   "id": "36bf4778-145f-48fb-b6f1-5948657efb02",
   "metadata": {},
   "source": [
    "## Problem 4: Simple Interest\n",
    "If a loan of P dollars collects simple interest at an annual rate of i and is repaid after t years, then the amount repaid, \n",
    "denoted by A, is given by the following formula: 𝐴 = 𝑃 ⋅ (1 + 𝑖 ⋅ 𝑡)\r\n",
    "Suppose that a loan of $210 collects simple interest at an annual rate of 0.09 and is repaid after 10 months (i.e. 10/12 of a\r\n",
    "yea). \r"
   ]
  },
  {
   "cell_type": "code",
   "execution_count": 9,
   "id": "8c54d0ac-990b-48a9-87d9-726c84117fa0",
   "metadata": {},
   "outputs": [],
   "source": [
    "# store variables\n",
    "P = 400\n",
    "i = 0.05\n",
    "t = 3"
   ]
  },
  {
   "cell_type": "code",
   "execution_count": 10,
   "id": "2e5cf468-34c4-47f3-b05a-99302b07ceee",
   "metadata": {},
   "outputs": [],
   "source": [
    "# calculate\n",
    "A = P * (1 +i)**t"
   ]
  },
  {
   "cell_type": "code",
   "execution_count": 11,
   "id": "71cb61b3-9be2-4058-af50-10af260c9494",
   "metadata": {},
   "outputs": [
    {
     "name": "stdout",
     "output_type": "stream",
     "text": [
      "Amount repaid: $ 463.05\n"
     ]
    }
   ],
   "source": [
    "# output \n",
    "print('Amount repaid: $', round(A, 2))"
   ]
  },
  {
   "cell_type": "markdown",
   "id": "9e615892-0223-4d7b-aed7-695f1a3d7698",
   "metadata": {},
   "source": [
    "## Problem 6: Annuity\n",
    "Suppose a couple establishes a college fund for their newborn child by depositing $2000 into an account collecting interest \n",
    "at an annual effective rate of 0.04 for 18 years \r\n",
    "Write code to calculate the balance of this account at the end of 18 years."
   ]
  },
  {
   "cell_type": "code",
   "execution_count": 12,
   "id": "33f84da1-67a9-4e1e-aaf5-222085b9254e",
   "metadata": {},
   "outputs": [],
   "source": [
    "# store variables\n",
    "PMT = 2000\n",
    "i = 0.04\n",
    "n = 18\n",
    "A = PMT*((1+i)**n - 1)/i"
   ]
  },
  {
   "cell_type": "code",
   "execution_count": 13,
   "id": "d0b8f70c-c9b6-415c-a001-9e144828dfff",
   "metadata": {},
   "outputs": [
    {
     "name": "stdout",
     "output_type": "stream",
     "text": [
      "Balance after 18 years: $ 51290.83\n"
     ]
    }
   ],
   "source": [
    "# output\n",
    "print('Balance after', n, 'years: $', round(A, 2))"
   ]
  },
  {
   "cell_type": "markdown",
   "id": "44497a16-8432-4e28-8005-f250509a2e19",
   "metadata": {},
   "source": [
    "## Problem 7: Probability\n",
    "Assume that Allen and Beth are meeting for dinner. The probability that Allen is late is equal to 0.6. The probability that \n",
    "Beth is late is equal to 0.3. Whether or not one person is late is independent of whether or not the other person is late."
   ]
  },
  {
   "cell_type": "code",
   "execution_count": 14,
   "id": "f5acdea0-d574-4331-a420-42daed9ebf49",
   "metadata": {},
   "outputs": [],
   "source": [
    "# variables\n",
    "prob_A = 0.6\n",
    "prob_B = 0.3"
   ]
  },
  {
   "cell_type": "code",
   "execution_count": 15,
   "id": "655a4897-3429-4869-9086-190bee193057",
   "metadata": {},
   "outputs": [],
   "source": [
    "# calculations\n",
    "prob_A_and_B = prob_A * prob_B\n",
    "prob_A_or_B = prob_A + prob_B - prob_A_and_B"
   ]
  },
  {
   "cell_type": "code",
   "execution_count": 16,
   "id": "d2e5a865-cf4b-4281-ae70-66796f3a62bc",
   "metadata": {},
   "outputs": [
    {
     "name": "stdout",
     "output_type": "stream",
     "text": [
      "Probability that both people are late:         0.18\n",
      "Probability that at least one person is late:  0.72\n"
     ]
    }
   ],
   "source": [
    "print('Probability that both people are late:        ', round(prob_A_and_B, 4))\n",
    "print('Probability that at least one person is late: ', round(prob_A_or_B, 4))"
   ]
  },
  {
   "cell_type": "markdown",
   "id": "e96ec85f-8453-4f41-ae87-ddf5327082c2",
   "metadata": {},
   "source": [
    "## Problem 8: Constructing an Output Message\n",
    "define a single string variable msg to store a multiline message"
   ]
  },
  {
   "cell_type": "code",
   "execution_count": 17,
   "id": "68ac5b0e-0950-4f21-951d-7e0d9c4a28e8",
   "metadata": {},
   "outputs": [],
   "source": [
    "# create variables\n",
    "first = 'Mike'\n",
    "last = \"Montes\"\n",
    "sid = 123456\n",
    "msg = 'First name: ' + first + '\\nLast name:  ' + last + '\\nStudent ID: ' + str(sid)"
   ]
  },
  {
   "cell_type": "code",
   "execution_count": 18,
   "id": "b4bdc5a3-130d-4dfc-bc4a-d6ee2ef14a93",
   "metadata": {},
   "outputs": [
    {
     "name": "stdout",
     "output_type": "stream",
     "text": [
      "First name: Mike\n",
      "Last name:  Montes\n",
      "Student ID: 123456\n"
     ]
    }
   ],
   "source": [
    "print(msg)"
   ]
  }
 ],
 "metadata": {
  "kernelspec": {
   "display_name": "Python 3 (ipykernel)",
   "language": "python",
   "name": "python3"
  },
  "language_info": {
   "codemirror_mode": {
    "name": "ipython",
    "version": 3
   },
   "file_extension": ".py",
   "mimetype": "text/x-python",
   "name": "python",
   "nbconvert_exporter": "python",
   "pygments_lexer": "ipython3",
   "version": "3.12.3"
  }
 },
 "nbformat": 4,
 "nbformat_minor": 5
}
