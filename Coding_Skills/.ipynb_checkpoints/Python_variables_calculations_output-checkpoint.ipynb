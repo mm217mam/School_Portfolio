{
 "cells": [
  {
   "cell_type": "markdown",
   "id": "569be8ee-c4b7-4b01-aae5-f28e0a7218d3",
   "metadata": {},
   "source": [
    "# Week 1 homework"
   ]
  },
  {
   "cell_type": "markdown",
   "id": "d5ec8deb-cdb0-43c0-8216-5756b6a076d2",
   "metadata": {},
   "source": [
    "## Problem 1: Arithmetic and Geometric Means\n",
    "Consider four numbers denoted by, 𝑥0, 𝑥1, 𝑥2, and 𝑥3. \n",
    "Calculate the arithmetic and geometric mean of four numbers."
   ]
  },
  {
   "cell_type": "code",
   "execution_count": 3,
   "id": "6ff8f2e3-4e01-4140-a256-df816fa1ee4d",
   "metadata": {},
   "outputs": [],
   "source": [
    "# name constant variables\n",
    "x0 = 11\n",
    "x1 = 12\n",
    "x2 = 17\n",
    "x3 = 19"
   ]
  },
  {
   "cell_type": "code",
   "execution_count": 4,
   "id": "f962f301-6247-4d48-8f94-6170a5c5aaab",
   "metadata": {},
   "outputs": [],
   "source": [
    "# assign computations to variables\n",
    "total = x0 + x1 + x2 + x3\n",
    "product  = x0 * x1 * x2 * x3\n",
    "arith_mean = total / 4\n",
    "geom_mean = product**0.25"
   ]
  },
  {
   "cell_type": "code",
   "execution_count": 10,
   "id": "c1e0c9f2-5b52-4b10-a30e-1d05ce53b270",
   "metadata": {
    "scrolled": true
   },
   "outputs": [
    {
     "name": "stdout",
     "output_type": "stream",
     "text": [
      "Sum:              59\n",
      "Product:          42636\n",
      "Arithmetic Mean:  14.75\n",
      "Geometric Mean:   14.37\n"
     ]
    }
   ],
   "source": [
    "# display results\n",
    "print('Sum:             ', total)\n",
    "print('Product:         ', product)\n",
    "print('Arithmetic Mean: ', arith_mean)\n",
    "print('Geometric Mean:  ', round(geom_mean, 2))"
   ]
  },
  {
   "cell_type": "markdown",
   "id": "5f6c55ec-1449-4352-a086-4d1d9d6d1102",
   "metadata": {},
   "source": [
    "## Problem 2: Calculating Bill\n",
    "l calculate the total cost of an order at a restaurant. Assume that the order consists of 2 side salads,\n",
    "2 hamburgers, and 2 diet sodas. Assume also that the side salads cost \\$3.95 each, the hamburgers cost \\$8.95 each, and the sodas cost $2.50 each. Assume that the sales tax rate is 4.75% and the customers left a 15% tip."
   ]
  },
  {
   "cell_type": "code",
   "execution_count": 14,
   "id": "b288d1b7-ce51-4932-b838-d01ffa6f62ba",
   "metadata": {},
   "outputs": [],
   "source": [
    "# calculations\n",
    "ss_cost = 2 * 3.95\n",
    "hb_cost = 2 * 8.95\n",
    "ds_cost = 2 * 2.50\n",
    "subtotal = ss_cost + hb_cost + ds_cost\n",
    "tax = round((subtotal * 0.0475), 2)\n",
    "tip = round((subtotal * 0.15), 2)\n",
    "total_charge = subtotal + tax + tip"
   ]
  },
  {
   "cell_type": "code",
   "execution_count": 25,
   "id": "53aacfa1-5605-4649-871a-d1d800b58604",
   "metadata": {},
   "outputs": [
    {
     "name": "stdout",
     "output_type": "stream",
     "text": [
      "2 Side salads: $ 7.9\n",
      "2 Hamburgers:  $ 17.9\n",
      "2 Diet sodas:  $ 5.0\n",
      "----------------------\n",
      "Subtotal:      $ 30.8\n",
      "Tax (4.75%):   $ 1.46\n",
      "Tip:           $ 4.62\n",
      "----------------------\n",
      "Total charge:  $ 36.88\n"
     ]
    }
   ],
   "source": [
    "# output\n",
    "print('2 Side salads: $', ss_cost)\n",
    "print('2 Hamburgers:  $', hb_cost)\n",
    "print('2 Diet sodas:  $', ds_cost)\n",
    "print('-' * 22)\n",
    "print('Subtotal:      $', round(subtotal, 2))\n",
    "print('Tax (4.75%):   $', tax)\n",
    "print('Tip:           $', tip)\n",
    "print('-' * 22)\n",
    "print('Total charge:  $', round(total_charge, 2))"
   ]
  },
  {
   "cell_type": "code",
   "execution_count": null,
   "id": "0676403a-af91-471e-bb5f-df80a7f6b74f",
   "metadata": {},
   "outputs": [],
   "source": []
  },
  {
   "cell_type": "code",
   "execution_count": null,
   "id": "7e5ef4ac-116e-4de4-bfea-9271d553ae9e",
   "metadata": {},
   "outputs": [],
   "source": []
  },
  {
   "cell_type": "code",
   "execution_count": null,
   "id": "fd166e08-933a-475d-8b0d-295400b9310d",
   "metadata": {},
   "outputs": [],
   "source": []
  },
  {
   "cell_type": "code",
   "execution_count": null,
   "id": "46bd058f-8027-4c58-8177-c5999d69b6a0",
   "metadata": {},
   "outputs": [],
   "source": []
  },
  {
   "cell_type": "code",
   "execution_count": null,
   "id": "9bdd36b1-969b-4e0a-bce2-967288217dad",
   "metadata": {},
   "outputs": [],
   "source": []
  }
 ],
 "metadata": {
  "kernelspec": {
   "display_name": "Python 3 (ipykernel)",
   "language": "python",
   "name": "python3"
  },
  "language_info": {
   "codemirror_mode": {
    "name": "ipython",
    "version": 3
   },
   "file_extension": ".py",
   "mimetype": "text/x-python",
   "name": "python",
   "nbconvert_exporter": "python",
   "pygments_lexer": "ipython3",
   "version": "3.12.3"
  }
 },
 "nbformat": 4,
 "nbformat_minor": 5
}
