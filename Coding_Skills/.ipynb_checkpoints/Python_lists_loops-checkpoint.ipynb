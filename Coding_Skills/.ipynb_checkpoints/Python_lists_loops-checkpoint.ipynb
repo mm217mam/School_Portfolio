{
 "cells": [
  {
   "cell_type": "markdown",
   "id": "79cae907-96bb-4f82-bb24-69ec715d9a70",
   "metadata": {},
   "source": [
    "# Week 2 Homework\n",
    "    - lists: insert and delete\n",
    "    - seeds, random samples\n",
    "    - sorting, slicing\n",
    "    - for and while loops\n",
    "    - logicals\n",
    "    - calculating sum of square errors\n",
    "    - f-strings"
   ]
  },
  {
   "cell_type": "markdown",
   "id": "7965583b-da28-488c-88dd-e5ada86e3718",
   "metadata": {},
   "source": [
    "## Problem 1: Altering Lists\n"
   ]
  },
  {
   "cell_type": "code",
   "execution_count": 1,
   "id": "2dbccfed-5f7f-46fa-a03b-794a62eaf0ab",
   "metadata": {},
   "outputs": [],
   "source": [
    "# Lists are created manually in order by 'years' value.\n",
    "employees = ['Beth', 'Fred', 'Drew', 'Alex', 'Emma', 'Chad']\n",
    "years = [15, 11, 8, 5, 4, 2]"
   ]
  },
  {
   "cell_type": "code",
   "execution_count": 2,
   "id": "11726296-37ac-4e69-9266-fa08184649eb",
   "metadata": {},
   "outputs": [
    {
     "name": "stdout",
     "output_type": "stream",
     "text": [
      "['Beth', 'Gina', 'Fred', 'Drew', 'Alex', 'Emma', 'Herb', 'Chad', 'Iris']\n",
      "[15, 12, 11, 8, 5, 4, 3, 2, 0]\n"
     ]
    }
   ],
   "source": [
    "# Insertions are made to the list.\n",
    "# Gina\n",
    "employees.insert(1, 'Gina')\n",
    "years.insert(1, 12)\n",
    "# Herb\n",
    "employees.insert(6, 'Herb')\n",
    "years.insert(6, 3)\n",
    "# Iris\n",
    "employees.insert(8, 'Iris')\n",
    "years.insert(8, 0)\n",
    "\n",
    "print(employees)\n",
    "print(years)"
   ]
  },
  {
   "cell_type": "code",
   "execution_count": 3,
   "id": "fe087ec9-d23e-42b1-853c-ced723dcf6d6",
   "metadata": {},
   "outputs": [
    {
     "name": "stdout",
     "output_type": "stream",
     "text": [
      "['Beth', 'Gina', 'Drew', 'Emma', 'Alex', 'Herb', 'Chad', 'Iris']\n",
      "[15, 12, 8, 6, 5, 3, 2, 0]\n"
     ]
    }
   ],
   "source": [
    "# A deletion is perfomed.\n",
    "del employees[2]\n",
    "del years[2]\n",
    "\n",
    "# An update is performed and the lists are reindexed by 'year' values.\n",
    "# There are many ways of doing this, but I'm still unsure if we should strictly adhere to instructions or provide more advanced methods.\n",
    "\n",
    "# Modify Emma's years\n",
    "years[4] = 6\n",
    "\n",
    "# Remove and then reinsert Emma in the correct index.\n",
    "del employees[4]\n",
    "del years [4]\n",
    "employees.insert(3, 'Emma')\n",
    "years.insert(3, 6)\n",
    "\n",
    "print(employees)\n",
    "print(years)"
   ]
  },
  {
   "cell_type": "markdown",
   "id": "1b6aa0ee-3b2d-4a8c-a5db-e7fe58147341",
   "metadata": {},
   "source": [
    "## Problem 2: Sorting and Slicing Lists"
   ]
  },
  {
   "cell_type": "code",
   "execution_count": 4,
   "id": "c3e74709-851c-4609-bd8f-f78d5203bb19",
   "metadata": {},
   "outputs": [],
   "source": [
    "# create random list\n",
    "import random\n",
    "random.seed(12)\n",
    "random_list = random.sample(range(500), 99)"
   ]
  },
  {
   "cell_type": "code",
   "execution_count": 5,
   "id": "3c343c45-a472-457d-9ee0-8d713ebc7a4e",
   "metadata": {},
   "outputs": [
    {
     "name": "stdout",
     "output_type": "stream",
     "text": [
      "Length of random_list: 99\n",
      "First 10 Elements of random_list is [242, 137, 336, 270, 341, 179, 73, 195, 5, 191]\n"
     ]
    }
   ],
   "source": [
    "print(f'Length of random_list: {len(random_list)}')\n",
    "print(f'First 10 Elements of random_list is {random_list[0:10]}')"
   ]
  },
  {
   "cell_type": "code",
   "execution_count": 6,
   "id": "51e3a48f-fb16-4a71-8dc3-610fa0bc7d59",
   "metadata": {},
   "outputs": [
    {
     "name": "stdout",
     "output_type": "stream",
     "text": [
      "First 10 Elements of random_list: [242, 137, 336, 270, 341, 179, 73, 195, 5, 191]\n"
     ]
    }
   ],
   "source": [
    "print(f'First 10 Elements of random_list: {random_list[0:10]}')"
   ]
  },
  {
   "cell_type": "code",
   "execution_count": 7,
   "id": "9768deac-0e7a-4848-a286-17e1dacbd786",
   "metadata": {},
   "outputs": [
    {
     "name": "stdout",
     "output_type": "stream",
     "text": [
      "First 10 Elements of sorted_list: [0, 5, 9, 15, 26, 30, 31, 38, 42, 44]\n",
      "First 10 Elements of random_list: [242, 137, 336, 270, 341, 179, 73, 195, 5, 191]\n"
     ]
    }
   ],
   "source": [
    "sorted_list = sorted(random_list, reverse = False)\n",
    "print(f'First 10 Elements of sorted_list: {sorted_list[0:10]}')\n",
    "print(f'First 10 Elements of random_list: {random_list[0:10]}')"
   ]
  },
  {
   "cell_type": "code",
   "execution_count": 8,
   "id": "5137966f-4bf5-4474-b5f0-7fa1651e0c3c",
   "metadata": {},
   "outputs": [
    {
     "name": "stdout",
     "output_type": "stream",
     "text": [
      "The smallest element of bot_slice is 0.\n",
      "The largest element of bot_slice is 173.\n",
      "\n",
      "The smallest element of mid_slice is 179.\n",
      "The largest element of mid_slice is 311.\n",
      "\n",
      "The smallest element of top_slice is 318.\n",
      "The largest element of top_slice is 484.\n"
     ]
    }
   ],
   "source": [
    "bot_slice = sorted_list[0:33]\n",
    "mid_slice = sorted_list[33:66]\n",
    "top_slice = sorted_list[66:99]\n",
    "\n",
    "print(f'The smallest element of bot_slice is {bot_slice[0]}.')\n",
    "print(f'The largest element of bot_slice is {bot_slice[-1]}.\\n')\n",
    "print(f'The smallest element of mid_slice is {mid_slice[0]}.')\n",
    "print(f'The largest element of mid_slice is {mid_slice[-1]}.\\n')\n",
    "print(f'The smallest element of top_slice is {top_slice[0]}.')\n",
    "print(f'The largest element of top_slice is {top_slice[-1]}.')"
   ]
  },
  {
   "cell_type": "markdown",
   "id": "b54e392f-73c6-49df-b29c-0faae4dad532",
   "metadata": {},
   "source": [
    "## Problem 3: Calculating Sum of Squared Errors"
   ]
  },
  {
   "cell_type": "code",
   "execution_count": 9,
   "id": "fd90f3a7-9efa-41a5-941c-f2663fd71c81",
   "metadata": {},
   "outputs": [],
   "source": [
    "length = [22.7, 22.4, 25.8, 21.3, 20.1, 22.1, 21.1, 25.3, 26.9, 26.9, 23.0, 23.8, 26.2, 20.4, 23.0, 21.9, 23.5, 27.8, 25.3, 25.9]\n",
    "weight = [9.2, 8.8, 10.7, 8.3, 6.2, 8.6, 7.2, 11.2, 10.5, 11.3, 9.6, 9.9, 10.9, 5.9, 9.5, 9.1, 9.7, 11.6, 10.2, 10.5]"
   ]
  },
  {
   "cell_type": "code",
   "execution_count": 10,
   "id": "07bcb4c9-55da-4aea-b8fe-f30539c41781",
   "metadata": {},
   "outputs": [
    {
     "name": "stdout",
     "output_type": "stream",
     "text": [
      "[8.42, 8.24, 10.28, 7.58, 6.86, 8.06, 7.46, 9.98, 10.94, 10.94, 8.6, 9.08, 10.52, 7.04, 8.6, 7.94, 8.9, 11.48, 9.98, 10.34]\n"
     ]
    }
   ],
   "source": [
    "pred_weight = []\n",
    "for i in range(len(length)):\n",
    "    pred_weight.append(round((0.6 * (length[i]) - 5.2), 2))\n",
    "print(pred_weight)"
   ]
  },
  {
   "cell_type": "code",
   "execution_count": 11,
   "id": "bce4e6d1-33cd-460f-a23d-45d687631436",
   "metadata": {},
   "outputs": [
    {
     "name": "stdout",
     "output_type": "stream",
     "text": [
      "The SSE for the predicted weight based on the given formula is: 10.2236\n"
     ]
    }
   ],
   "source": [
    "SSE = 0\n",
    "for i in range(len(weight)):\n",
    "    SSE += ((weight[i] - pred_weight[i])**2)\n",
    "print(f'The SSE for the predicted weight based on the given formula is: {round(SSE, 4)}')"
   ]
  },
  {
   "cell_type": "markdown",
   "id": "1fe5e75e-355d-4e72-9d32-cdd70695e6e5",
   "metadata": {},
   "source": [
    "## Problem 4:  Calculating Exam Scores"
   ]
  },
  {
   "cell_type": "code",
   "execution_count": 12,
   "id": "6161fa87-e6f7-4269-983d-12e75d1929b3",
   "metadata": {},
   "outputs": [
    {
     "name": "stdout",
     "output_type": "stream",
     "text": [
      "Student 1 Grade:  64%\n",
      "Student 2 Grade:  84%\n"
     ]
    }
   ],
   "source": [
    "# define lists\n",
    "correct = ['D', 'B', 'C', 'A', 'C', 'D', 'A', 'C', 'C', 'B', 'D', 'A', 'B', 'D', 'C', 'D', 'C', 'D', 'C', 'A', 'B', 'D', 'C', 'B', 'A']\n",
    "answers1 = ['A', 'B', 'C', 'A', 'B', 'D', 'A', 'A', 'C', 'B', 'D', 'A', 'D', 'C', 'C', 'B', 'C', 'D', 'B', 'A', 'D', 'D', 'C', 'C', 'A']\n",
    "answers2 = ['D', 'A', 'C', 'A', 'B', 'D', 'A', 'C', 'C', 'B', 'D', 'A', 'B', 'D', 'A', 'D', 'C', 'D', 'C', 'A', 'B', 'C', 'C', 'B', 'A']\n",
    "\n",
    "# loop to obtain number correct\n",
    "count1 = 0\n",
    "count2 = 0\n",
    "for i in range(len(correct)):\n",
    "    if answers1[i] == correct[i]:\n",
    "        count1 += 1\n",
    "    if answers2[i] == correct[i]:\n",
    "        count2 += 1\n",
    "\n",
    "# calculate scores and output\n",
    "grade1 = int(count1 / len(correct) * 100)\n",
    "grade2 = int(count2 / len(correct) * 100)\n",
    "\n",
    "print(f'Student 1 Grade: {grade1:>3}%')\n",
    "print(f'Student 2 Grade: {grade2:>3}%')"
   ]
  },
  {
   "cell_type": "markdown",
   "id": "b9b3fa5a-064f-4114-990e-23dff806b762",
   "metadata": {},
   "source": [
    "## Problem 5: Determining Monthly Payments"
   ]
  },
  {
   "cell_type": "code",
   "execution_count": 13,
   "id": "f4e2c0d8-21f1-4ddf-ba37-c23723177fa6",
   "metadata": {},
   "outputs": [
    {
     "name": "stdout",
     "output_type": "stream",
     "text": [
      "A loan of $100000 would require monthly payments of $524.67.\n",
      "A loan of $110000 would require monthly payments of $577.13.\n",
      "A loan of $120000 would require monthly payments of $629.60.\n",
      "A loan of $130000 would require monthly payments of $682.06.\n",
      "A loan of $140000 would require monthly payments of $734.53.\n",
      "A loan of $150000 would require monthly payments of $787.00.\n",
      "A loan of $160000 would require monthly payments of $839.46.\n",
      "A loan of $170000 would require monthly payments of $891.93.\n",
      "A loan of $180000 would require monthly payments of $944.40.\n",
      "A loan of $190000 would require monthly payments of $996.86.\n",
      "A loan of $200000 would require monthly payments of $1,049.33.\n"
     ]
    }
   ],
   "source": [
    "# define variables\n",
    "i = 0.004\n",
    "n = 360\n",
    "start = 100000\n",
    "increment = 10000\n",
    "\n",
    "# loop by loan amount\n",
    "amount = start\n",
    "for amount in range(start, 200001, increment):\n",
    "    payment = round((amount / ((1 - ((1 + i)**(-n))) / i)), 2)\n",
    "    print(f'A loan of ${amount} would require monthly payments of ${payment:,.2f}.') "
   ]
  },
  {
   "cell_type": "code",
   "execution_count": 14,
   "id": "5b50a4a6-30f1-46bf-b31a-78c193184905",
   "metadata": {},
   "outputs": [
    {
     "name": "stdout",
     "output_type": "stream",
     "text": [
      "A loan of $100000 would require monthly payments of $524.67.\n",
      "A loan of $110000 would require monthly payments of $577.13.\n",
      "A loan of $120000 would require monthly payments of $629.60.\n",
      "A loan of $130000 would require monthly payments of $682.06.\n",
      "A loan of $140000 would require monthly payments of $734.53.\n",
      "A loan of $150000 would require monthly payments of $787.00.\n",
      "A loan of $160000 would require monthly payments of $839.46.\n",
      "A loan of $170000 would require monthly payments of $891.93.\n",
      "A loan of $180000 would require monthly payments of $944.40.\n",
      "A loan of $190000 would require monthly payments of $996.86.\n",
      "A loan of $200000 would require monthly payments of $1,049.33.\n"
     ]
    }
   ],
   "source": [
    "## While loop\n",
    "# define variables\n",
    "i = 0.004\n",
    "n = 360\n",
    "start = 100000\n",
    "increment = 10000\n",
    "\n",
    "# loop by loan amount\n",
    "amount = start\n",
    "while amount <= 200000:\n",
    "    payment = round((amount / ((1 - ((1 + i)**(-n))) / i)), 2)\n",
    "    print(f'A loan of ${amount} would require monthly payments of ${payment:,.2f}.') \n",
    "    amount += increment"
   ]
  },
  {
   "cell_type": "markdown",
   "id": "73cc85f0-829e-43a6-a6d2-b8fe83a4ccbb",
   "metadata": {},
   "source": [
    "## Problem 6: Creating an Amortization Schedule"
   ]
  },
  {
   "cell_type": "code",
   "execution_count": 15,
   "id": "d4cf3331-98ab-4568-a977-52a391c61e34",
   "metadata": {},
   "outputs": [
    {
     "name": "stdout",
     "output_type": "stream",
     "text": [
      "The balance at the end of 12 months will be $157,553.12.\n",
      "The balance at the end of 24 months will be $154,986.16.\n",
      "The balance at the end of 36 months will be $152,293.23.\n",
      "The balance at the end of 48 months will be $149,468.18.\n",
      "The balance at the end of 60 months will be $146,504.50.\n",
      "The balance at the end of 72 months will be $143,395.39.\n",
      "The balance at the end of 84 months will be $140,133.72.\n",
      "The balance at the end of 96 months will be $136,711.97.\n",
      "The balance at the end of 108 months will be $133,122.33.\n",
      "The balance at the end of 120 months will be $129,356.56.\n",
      "The balance at the end of 132 months will be $125,406.00.\n",
      "The balance at the end of 144 months will be $121,261.57.\n",
      "The balance at the end of 156 months will be $116,913.78.\n",
      "The balance at the end of 168 months will be $112,352.64.\n",
      "The balance at the end of 180 months will be $107,567.68.\n",
      "The balance at the end of 192 months will be $102,547.91.\n",
      "The balance at the end of 204 months will be $97,281.84.\n",
      "The balance at the end of 216 months will be $91,757.37.\n",
      "The balance at the end of 228 months will be $85,961.81.\n",
      "The balance at the end of 240 months will be $79,881.85.\n",
      "The balance at the end of 252 months will be $73,503.55.\n",
      "The balance at the end of 264 months will be $66,812.25.\n",
      "The balance at the end of 276 months will be $59,792.61.\n",
      "The balance at the end of 288 months will be $52,428.53.\n",
      "The balance at the end of 300 months will be $44,703.11.\n",
      "The balance at the end of 312 months will be $36,598.58.\n",
      "The balance at the end of 324 months will be $28,096.34.\n",
      "The balance at the end of 336 months will be $19,176.93.\n",
      "The balance at the end of 348 months will be $9,819.84.\n",
      "The balance at the end of 360 months will be $3.59.\n"
     ]
    }
   ],
   "source": [
    "# define variables\n",
    "balance = 160000\n",
    "i = 0.004\n",
    "pmt = 839.46\n",
    "\n",
    "# loop by # of payment months\n",
    "for count in range(1, 361):\n",
    "    balance = round((balance * (1 + i) - pmt), 2)\n",
    "    if count % 12 == 0:\n",
    "        print(f'The balance at the end of {count} months will be ${balance:,.2f}.')"
   ]
  },
  {
   "cell_type": "markdown",
   "id": "6b69fd3f-3d2f-45b2-bcf3-7b5b98651a05",
   "metadata": {},
   "source": [
    "## Problem 7: Calculating Price of a Bulk Order"
   ]
  },
  {
   "cell_type": "code",
   "execution_count": 16,
   "id": "adb6eb62-cad0-4998-a568-cdeaa94385e9",
   "metadata": {},
   "outputs": [
    {
     "name": "stdout",
     "output_type": "stream",
     "text": [
      "The cost for an order of 84 widgets is $29,400.\n",
      "The cost for an order of 100 widgets is $35,000.\n",
      "The cost for an order of 126 widgets is $42,800.\n",
      "The cost for an order of 150 widgets is $50,000.\n",
      "The cost for an order of 186 widgets is $60,800.\n",
      "The cost for an order of 200 widgets is $65,000.\n",
      "The cost for an order of 216 widgets is $69,000.\n",
      "The cost for an order of 248 widgets is $77,000.\n"
     ]
    }
   ],
   "source": [
    "quantities = [84, 100, 126, 150, 186, 200, 216, 248]\n",
    "\n",
    "for n in range(len(quantities)):\n",
    "    quantity = quantities[n]\n",
    "    if quantity > 200:\n",
    "        price = ((quantity - 200) * 250) + (100 * 300) + (100 * 350) # this can be condensed\n",
    "    elif quantity > 100:\n",
    "        price = ((quantity - 100) * 300) + (100 * 350) # this can be condensed\n",
    "    else:\n",
    "        price = quantity * 350\n",
    "    print(f'The cost for an order of {quantity} widgets is ${price:,}.')"
   ]
  },
  {
   "cell_type": "markdown",
   "id": "886692a4-5d57-41c4-86be-637dcc509553",
   "metadata": {},
   "source": [
    "## Problem 8: Adding Matrices"
   ]
  },
  {
   "cell_type": "code",
   "execution_count": 17,
   "id": "3c7f39e7-9591-47da-b948-ed6c535ed8fb",
   "metadata": {},
   "outputs": [],
   "source": [
    "A = [[13, 43, 28, 22, 41], [17, 39, 46, 16, 21], [41, 34, 31, 25, 14]]\n",
    "B = [[35, 29, 43, 21, 31], [48, 26, 19, 17, 23], [32, 34, 24, 16, 27]]"
   ]
  },
  {
   "cell_type": "code",
   "execution_count": 18,
   "id": "68352814-92ad-4588-a453-02d9bfc97104",
   "metadata": {},
   "outputs": [
    {
     "name": "stdout",
     "output_type": "stream",
     "text": [
      "[48, 72, 71, 43, 72]\n",
      "[65, 65, 65, 33, 44]\n",
      "[73, 68, 55, 41, 41]\n"
     ]
    }
   ],
   "source": [
    "# set empty list\n",
    "AplusB = []\n",
    "\n",
    "# loop by row and row index\n",
    "for i in range(len(A)):\n",
    "    temp_row = []\n",
    "    for j in range(len(A[i])):\n",
    "        temp_row.append((A[i][j]) + (B[i][j]))\n",
    "    AplusB.append(temp_row)\n",
    "\n",
    "#output\n",
    "for row in AplusB:\n",
    "    print(row)"
   ]
  }
 ],
 "metadata": {
  "kernelspec": {
   "display_name": "Python 3 (ipykernel)",
   "language": "python",
   "name": "python3"
  },
  "language_info": {
   "codemirror_mode": {
    "name": "ipython",
    "version": 3
   },
   "file_extension": ".py",
   "mimetype": "text/x-python",
   "name": "python",
   "nbconvert_exporter": "python",
   "pygments_lexer": "ipython3",
   "version": "3.12.3"
  }
 },
 "nbformat": 4,
 "nbformat_minor": 5
}
