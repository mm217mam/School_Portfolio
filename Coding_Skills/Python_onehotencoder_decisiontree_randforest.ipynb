{
 "cells": [
  {
   "cell_type": "markdown",
   "id": "fa4e86a9",
   "metadata": {},
   "source": [
    "# Week 8 Homework\n",
    "    - one hot encoding\n",
    "    - decision trees\n",
    "    - random forests"
   ]
  },
  {
   "cell_type": "code",
   "execution_count": null,
   "id": "c619cbfa",
   "metadata": {},
   "outputs": [],
   "source": [
    "import numpy as np\n",
    "import pandas as pd\n",
    "import matplotlib.pyplot as plt\n",
    "from sklearn.model_selection import train_test_split\n",
    "from sklearn.preprocessing import OneHotEncoder\n",
    "from sklearn.linear_model import LinearRegression\n",
    "from sklearn.linear_model import LogisticRegression\n",
    "from sklearn.tree import DecisionTreeClassifier\n",
    "from sklearn.ensemble import RandomForestClassifier\n",
    "from sklearn.metrics import confusion_matrix, classification_report "
   ]
  },
  {
   "cell_type": "markdown",
   "id": "513dcc2b",
   "metadata": {},
   "source": [
    "### Problem 1: Diamonds Dataset"
   ]
  },
  {
   "cell_type": "code",
   "execution_count": null,
   "id": "28dce7d6",
   "metadata": {},
   "outputs": [],
   "source": [
    "diamonds = pd.read_csv('diamonds.txt', sep = '\\t')\n",
    "diamonds['ln_carat'] = np.log(diamonds['carat'])\n",
    "diamonds['ln_price'] = np.log(diamonds['price'])                             \n",
    "diamonds.head(5)"
   ]
  },
  {
   "cell_type": "code",
   "execution_count": null,
   "id": "c7e89f6f",
   "metadata": {},
   "outputs": [],
   "source": [
    "X1_num = diamonds[['ln_carat']].values#.reshape(-1,1)\n",
    "X1_cat = diamonds[['cut', 'color', 'clarity']].values#.reshape(-1,1)\n",
    "y1 = diamonds['ln_price'].values#.reshape(-1,1)\n",
    "\n",
    "print(f' Numerical Feature Array Shape:   {X1_num.shape}\\\n",
    "     \\n Categorical Feature Array Shape: {X1_cat.shape}\\\n",
    "     \\n Label Array Shape:               {y1.shape}')"
   ]
  },
  {
   "cell_type": "code",
   "execution_count": null,
   "id": "d4c7ab5c",
   "metadata": {},
   "outputs": [],
   "source": [
    "encoder = OneHotEncoder(sparse = False)\n",
    "encoder.fit(X1_cat)\n",
    "X1_enc = encoder.transform(X1_cat)\n",
    "\n",
    "print(f'Encoded Feature Array Shape: {X1_enc.shape}')"
   ]
  },
  {
   "cell_type": "code",
   "execution_count": null,
   "id": "98a7c8f5",
   "metadata": {},
   "outputs": [],
   "source": [
    "X1 = np.hstack((X1_num, X1_enc))\n",
    "print(f'Feature Array Shape: {X1.shape}')"
   ]
  },
  {
   "cell_type": "code",
   "execution_count": null,
   "id": "eca06008",
   "metadata": {},
   "outputs": [],
   "source": [
    "X1_train, X1_hold, y1_train, y1_hold = \\\n",
    "    train_test_split(X1, y1, test_size = 0.2, random_state = 1)\n",
    "\n",
    "X1_valid, X1_test, y1_valid, y1_test = \\\n",
    "    train_test_split(X1_hold, y1_hold, test_size = 0.5, random_state = 1)\n",
    "\n",
    "print(f' Training Features Shape:   {X1_train.shape}\\n \\\n",
    "Validation Features Shape: {X1_valid.shape}\\n \\\n",
    "Test Features Shape:       {X1_test.shape}')"
   ]
  },
  {
   "cell_type": "markdown",
   "id": "904555e9",
   "metadata": {},
   "source": [
    "### Linear Regression Model with One Feature"
   ]
  },
  {
   "cell_type": "code",
   "execution_count": null,
   "id": "13d799a3",
   "metadata": {},
   "outputs": [],
   "source": [
    "dia_mod_1 = LinearRegression()\n",
    "dia_mod_1.fit(X1_train [:, [0]], y1_train)\n",
    "\n",
    "print(f' Training r-Squared:   {np.round((dia_mod_1.score(X1_train[:, [0]], y1_train)), 4)}\\n \\\n",
    "Validation r-Squared: {np.round((dia_mod_1.score(X1_valid[:, [0]], y1_valid)), 4)}')"
   ]
  },
  {
   "cell_type": "markdown",
   "id": "9fbd82bf",
   "metadata": {},
   "source": [
    "### Linear Regression Model with Several Features"
   ]
  },
  {
   "cell_type": "code",
   "execution_count": null,
   "id": "f86d771e",
   "metadata": {
    "scrolled": true
   },
   "outputs": [],
   "source": [
    "dia_mod_2 = LinearRegression()\n",
    "dia_mod_2.fit(X1_train, y1_train)\n",
    "\n",
    "print(f' Training r-Squared:   {np.round((dia_mod_2.score(X1_train, y1_train)), 4)}\\n \\\n",
    "Validation r-Squared: {np.round((dia_mod_2.score(X1_valid, y1_valid)), 4)}')"
   ]
  },
  {
   "cell_type": "code",
   "execution_count": null,
   "id": "c1f25609",
   "metadata": {},
   "outputs": [],
   "source": [
    "print(f'Testing r-Squared: {np.round(dia_mod_2.score(X1_test, y1_test), 4)}')"
   ]
  },
  {
   "cell_type": "markdown",
   "id": "55160da9",
   "metadata": {},
   "source": [
    "### Problem 2: Census Dataset"
   ]
  },
  {
   "cell_type": "code",
   "execution_count": null,
   "id": "58168616",
   "metadata": {},
   "outputs": [],
   "source": [
    "census = pd.read_csv('census.txt', sep = '\\t')\n",
    "census.head(10)"
   ]
  },
  {
   "cell_type": "code",
   "execution_count": null,
   "id": "4c597fc0",
   "metadata": {},
   "outputs": [],
   "source": [
    "census.shape"
   ]
  },
  {
   "cell_type": "code",
   "execution_count": null,
   "id": "091efc43",
   "metadata": {},
   "outputs": [],
   "source": [
    "census['salary'].value_counts()"
   ]
  },
  {
   "cell_type": "markdown",
   "id": "91dbf93c",
   "metadata": {},
   "source": [
    "### Prepare the Data"
   ]
  },
  {
   "cell_type": "code",
   "execution_count": null,
   "id": "020d209c",
   "metadata": {},
   "outputs": [],
   "source": [
    "X2_num = census[['age', 'fnlwgt', 'educ_num', 'capital_gain', 'capital_loss',\\\n",
    "    'hrs_per_week']].values\n",
    "X2_cat = census[['workclass', 'education', 'marital_status', 'occupation',\\\n",
    "    'relationship', 'race', 'sex', 'native_country']].values\n",
    "y2 = census[['salary']].values\n",
    "print(f' Numerical Feature Array Shape:   {X2_num.shape}\\\n",
    "     \\n Categorical Feature Array Shape: {X2_cat.shape}\\\n",
    "     \\n Label Array Shape:               {y2.shape}')"
   ]
  },
  {
   "cell_type": "code",
   "execution_count": null,
   "id": "535d7c9e",
   "metadata": {},
   "outputs": [],
   "source": [
    "encoder = OneHotEncoder(sparse = False)\n",
    "encoder.fit(X2_cat)\n",
    "X2_enc = encoder.transform(X2_cat)\n",
    "\n",
    "print(f'Encoded Feature Array Shape: {X2_enc.shape}')"
   ]
  },
  {
   "cell_type": "code",
   "execution_count": null,
   "id": "31139f51",
   "metadata": {},
   "outputs": [],
   "source": [
    "X2 = np.hstack((X2_num, X2_enc))\n",
    "print(f'Feature Array Shape: {X2.shape}')"
   ]
  },
  {
   "cell_type": "code",
   "execution_count": null,
   "id": "f0cc48b8",
   "metadata": {},
   "outputs": [],
   "source": [
    "X2_train, X2_hold, y2_train, y2_hold = \\\n",
    "    train_test_split(X2, y2, test_size = 0.3, random_state = 1, stratify = y2)\n",
    "\n",
    "X2_valid, X2_test, y2_valid, y2_test = \\\n",
    "    train_test_split(X2_hold, y2_hold, test_size = 0.5, random_state = 1, stratify = y2_hold)\n",
    "\n",
    "print(f' Training Features Shape:   {X2_train.shape}\\n \\\n",
    "Validation Features Shape: {X2_valid.shape}\\n \\\n",
    "Test Features Shape:       {X2_test.shape}')"
   ]
  },
  {
   "cell_type": "markdown",
   "id": "5450e2a2",
   "metadata": {},
   "source": [
    "### Logistic Regression Model"
   ]
  },
  {
   "cell_type": "code",
   "execution_count": null,
   "id": "5175f477",
   "metadata": {},
   "outputs": [],
   "source": [
    "lr_mod = LogisticRegression(solver = 'lbfgs', max_iter = 1000, penalty = 'none')\n",
    "lr_mod.fit(X2_train, y2_train)\n",
    "\n",
    "print(f' Training Accuracy: {np.round(lr_mod.score(X2_train, y2_train), 4)}\\n \\\n",
    "Testing Accuracy:  {np.round(lr_mod.score(X2_test, y2_test), 4)}')"
   ]
  },
  {
   "cell_type": "markdown",
   "id": "2d1f52f2",
   "metadata": {},
   "source": [
    "### Decision Tree Models"
   ]
  },
  {
   "cell_type": "code",
   "execution_count": null,
   "id": "b525ece6",
   "metadata": {},
   "outputs": [],
   "source": [
    "# prep empty lists for training and validation results by depth\n",
    "dt_train_acc = []\n",
    "dt_valid_acc = []\n",
    "\n",
    "# create depth range to determine maximum training result\n",
    "depth_range = list(range(2, 31, 1))\n",
    "\n",
    "# loop to find results for varying depths\n",
    "for i in depth_range:\n",
    "    np.random.seed(1)\n",
    "    temp_tree = DecisionTreeClassifier(max_depth = i)\n",
    "    temp_tree.fit(X2_train, y2_train)\n",
    "    dt_train_acc.append(temp_tree.score(X2_train, y2_train))\n",
    "    dt_valid_acc.append(temp_tree.score(X2_valid, y2_valid))\n",
    "    \n",
    "# determine best depth and find its index and apply to the decision tree to obtain results\n",
    "dt_idx = np.argmax(dt_valid_acc)\n",
    "dt_opt_depth = depth_range[dt_idx]\n",
    "\n",
    "# apply results to decision tree and print\n",
    "np.random.seed(1)\n",
    "tree = DecisionTreeClassifier(max_depth = dt_opt_depth)\n",
    "tree.fit(X2_train, y2_train)\n",
    "print(f' Optimal Value for max_depth:           {dt_opt_depth} \\n \\\n",
    "Training Accuracy for Optimal Model:   {np.round(tree.score(X2_train, y2_train), 4)}\\n \\\n",
    "Validation Accuracy for Optimal Model: {np.round(tree.score(X2_valid, y2_valid), 4)}')"
   ]
  },
  {
   "cell_type": "code",
   "execution_count": null,
   "id": "60db7ea7",
   "metadata": {
    "scrolled": true
   },
   "outputs": [],
   "source": [
    "plt.figure(figsize = [10, 6])\n",
    "plt.plot(depth_range, dt_train_acc, label = 'Training')\n",
    "plt.plot(depth_range, dt_valid_acc, label = 'Validation')\n",
    "plt.xlabel('Max Depth')\n",
    "plt.ylabel('Accuracy')\n",
    "plt.title('Accuracy as a Function of Depth Hyperparameter')\n",
    "plt.legend()\n",
    "plt.grid()\n",
    "plt.show()"
   ]
  },
  {
   "cell_type": "markdown",
   "id": "591e7031",
   "metadata": {},
   "source": [
    "### Random Forest Models"
   ]
  },
  {
   "cell_type": "code",
   "execution_count": null,
   "id": "242514ba",
   "metadata": {},
   "outputs": [],
   "source": [
    "rf_train_acc = []\n",
    "rf_valid_acc = []\n",
    "\n",
    "for i in depth_range:\n",
    "    np.random.seed(1)\n",
    "    temp_forest = RandomForestClassifier(n_estimators = 100, max_depth = i)\n",
    "    temp_forest.fit(X2_train, y2_train)\n",
    "    rf_train_acc.append(temp_forest.score(X2_train, y2_train))\n",
    "    rf_valid_acc.append(temp_forest.score(X2_valid, y2_valid))\n",
    "    \n",
    "rf_idx = np.argmax(rf_valid_acc)\n",
    "rf_opt_depth = depth_range[rf_idx]\n",
    "\n",
    "np.random.seed(1)\n",
    "forest = RandomForestClassifier(n_estimators = 100, max_depth = rf_opt_depth)\n",
    "forest.fit(X2_train, y2_train)\n",
    "\n",
    "print(f' Optimal Value for max_depth:           {rf_opt_depth} \\n \\\n",
    "Training Accuracy for Optimal Model:   {np.round(forest.score(X2_train, y2_train), 4)}\\n \\\n",
    "Validation Accuracy for Optimal Model: {np.round(forest.score(X2_valid, y2_valid), 4)}')"
   ]
  },
  {
   "cell_type": "code",
   "execution_count": null,
   "id": "4bfcba42",
   "metadata": {},
   "outputs": [],
   "source": [
    "plt.figure(figsize = [10, 6])\n",
    "plt.plot(depth_range, rf_train_acc, label = 'Training')\n",
    "plt.plot(depth_range, rf_valid_acc, label = 'Validation')\n",
    "plt.xlabel('Max Depth')\n",
    "plt.ylabel('Accuracy')\n",
    "plt.title('Accuracy as a Function of Depth Hyperparameter')\n",
    "plt.legend()\n",
    "plt.grid()\n",
    "plt.show()"
   ]
  },
  {
   "cell_type": "markdown",
   "id": "8ae56a90",
   "metadata": {},
   "source": [
    "### Evaluate Final Model"
   ]
  },
  {
   "cell_type": "markdown",
   "id": "617f3fc7",
   "metadata": {},
   "source": [
    "Logistic Model:  \n",
    "                        Training Accuracy: 0.7988   \n",
    "                        Testing Accuracy:  0.7943\n",
    "                        \n",
    "Decision Tree:     \n",
    "    Training Accuracy for Optimal Model:   0.8585   \n",
    "    Validation Accuracy for Optimal Model: 0.8565  \n",
    "    \n",
    "Random Forest:  \n",
    "    Training Accuracy for Optimal Model:   0.9192  \n",
    "    Validation Accuracy for Optimal Model: 0.8643"
   ]
  },
  {
   "cell_type": "code",
   "execution_count": null,
   "id": "7b1d9f4b",
   "metadata": {},
   "outputs": [],
   "source": [
    "np.random.seed(1)\n",
    "final_model = RandomForestClassifier(n_estimators = 100, max_depth = 19)\n",
    "final_model.fit(X2_train, y2_train)\n",
    "\n",
    "print(f' Training Accuracy for Final Model:   {np.round(final_model.score(X2_train, y2_train), 4)}\\n \\\n",
    "Validation Accuracy for Final Model: {np.round(final_model.score(X2_valid, y2_valid), 4)}\\n \\\n",
    "Testing Accuracy for Final Model:    {np.round(final_model.score(X2_test, y2_test), 4)}')"
   ]
  },
  {
   "cell_type": "code",
   "execution_count": null,
   "id": "f1011a33",
   "metadata": {},
   "outputs": [],
   "source": [
    "test_pred = final_model.predict(X2_test)\n",
    "\n",
    "conf_matrix = confusion_matrix(y2_test, test_pred)\n",
    "conf_matrix = pd.DataFrame(conf_matrix, index = ['<= 50K', '> 50K'], columns = ['<= 50K', '> 50K'])\n",
    "conf_matrix"
   ]
  },
  {
   "cell_type": "code",
   "execution_count": null,
   "id": "952c8101",
   "metadata": {},
   "outputs": [],
   "source": [
    "print(classification_report(y2_test, test_pred, target_names=['<= 50K', '> 50K']))"
   ]
  }
 ],
 "metadata": {
  "kernelspec": {
   "display_name": "Python 3 (ipykernel)",
   "language": "python",
   "name": "python3"
  },
  "language_info": {
   "codemirror_mode": {
    "name": "ipython",
    "version": 3
   },
   "file_extension": ".py",
   "mimetype": "text/x-python",
   "name": "python",
   "nbconvert_exporter": "python",
   "pygments_lexer": "ipython3",
   "version": "3.12.3"
  }
 },
 "nbformat": 4,
 "nbformat_minor": 5
}
