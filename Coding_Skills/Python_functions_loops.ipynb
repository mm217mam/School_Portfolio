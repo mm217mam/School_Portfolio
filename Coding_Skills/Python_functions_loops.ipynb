{
 "cells": [
  {
   "cell_type": "markdown",
   "id": "0c7ec12a",
   "metadata": {},
   "source": [
    "# Week 3 Homework\n",
    "    - functions with loops & conditionals    "
   ]
  },
  {
   "cell_type": "markdown",
   "id": "b3302896",
   "metadata": {},
   "source": [
    "## Problem 1: Dot Product"
   ]
  },
  {
   "cell_type": "code",
   "execution_count": 1,
   "id": "6675b43b",
   "metadata": {},
   "outputs": [],
   "source": [
    "def dot_product(x, y):\n",
    "    sum = 0\n",
    "    for i in range(len(x)):\n",
    "        sum += x[i] * y[i]\n",
    "    return sum"
   ]
  },
  {
   "cell_type": "code",
   "execution_count": 2,
   "id": "e3932426",
   "metadata": {},
   "outputs": [
    {
     "name": "stdout",
     "output_type": "stream",
     "text": [
      "The dot product of v1 and v2 is 16,220.\n"
     ]
    }
   ],
   "source": [
    "v1 = [38, 9, 40, 34, 20, 16, 42, 36, 12, 1, 23, 46, 31, 19, 30, 33, 16, 43, 24, 41]\n",
    "v2 = [43, 13, 35, 14, 26, 3, 36, 15, 42, 44, 45, 20, 17, 6, 47, 40, 38, 41, 31, 24]\n",
    "\n",
    "print(f'The dot product of v1 and v2 is {dot_product(v1, v2):,}.')"
   ]
  },
  {
   "cell_type": "markdown",
   "id": "7c49edd5",
   "metadata": {},
   "source": [
    "## Problem 2: Amortization "
   ]
  },
  {
   "cell_type": "code",
   "execution_count": 3,
   "id": "f7c07482",
   "metadata": {},
   "outputs": [],
   "source": [
    "def count_payments (amount, rate, pmt):                   ### define function with 3 parameters\n",
    "    balance = amount                                      ### initialize variable for while statement\n",
    "    count = 0                                             ### set counter for # payments\n",
    "    while balance > 0:                                    ### loop runs while balance > 0 \n",
    "        balance = round(((balance*(1 + rate))-pmt),2)     ### calculation\n",
    "        count += 1                                        ### counter\n",
    "    return count"
   ]
  },
  {
   "cell_type": "code",
   "execution_count": 4,
   "id": "139f1062",
   "metadata": {},
   "outputs": [
    {
     "name": "stdout",
     "output_type": "stream",
     "text": [
      "351 monthly payments of $850 would be required.\n",
      "312 monthly payments of $900 would be required.\n",
      "281 monthly payments of $950 would be required.\n",
      "256 monthly payments of $1,000 would be required.\n",
      "236 monthly payments of $1,050 would be required.\n"
     ]
    }
   ],
   "source": [
    "amount = 160000                                           ### set values\n",
    "rate = 0.004\n",
    "pmt = 850\n",
    "\n",
    "while pmt <= 1050:                                        ### set conditional for calculations\n",
    "    count_payments (amount, rate, pmt)                    ### call function\n",
    "    print(f'{count_payments(amount, rate, pmt)}{\" monthly payments of $\"}{pmt:,}{\" would be required.\"}')\n",
    "    pmt += 50  "
   ]
  },
  {
   "cell_type": "markdown",
   "id": "007492c6",
   "metadata": {},
   "source": [
    "## Problem 3: Minimum"
   ]
  },
  {
   "cell_type": "code",
   "execution_count": 5,
   "id": "cdaeda95",
   "metadata": {},
   "outputs": [],
   "source": [
    "def minimum(x):                 ### define function\n",
    "    a = x[1]                    ### define initial variabke for comparison since using index i+1 or i-1 will result in an out of index error\n",
    "    for i in range(0, len(x)):  ### set loop for length of list\n",
    "        if x[i]< a:             ### comparison in conditional\n",
    "            a = x[i]            ### set new value if new index value is less\n",
    "    return a"
   ]
  },
  {
   "cell_type": "code",
   "execution_count": 6,
   "id": "b9c74942",
   "metadata": {},
   "outputs": [
    {
     "name": "stdout",
     "output_type": "stream",
     "text": [
      "The minimum value of list 1 is 4.1.\n",
      "The minimum value of list 2 is 3.4.\n",
      "The minimum value of list 3 is Chicago.\n"
     ]
    }
   ],
   "source": [
    "list1 = [9.8, 7.4, 5.6, 4.8, 4.8, 5.3, 4.1, 9.6, 5.4]\n",
    "list2 = [3.4, 7.6, 8.7, 7.5, 9.8, 7.5, 6.7, 8.7, 8.4]\n",
    "list3 = ['St. Louis', 'Kansas City', 'Chicago', 'Little Rock', 'Omaha']\n",
    "\n",
    "print(f'The minimum value of list 1 is {minimum(list1)}.')\n",
    "print(f'The minimum value of list 2 is {minimum(list2)}.')\n",
    "print(f'The minimum value of list 3 is {minimum(list3)}.')\n"
   ]
  },
  {
   "cell_type": "markdown",
   "id": "faa26170",
   "metadata": {},
   "source": [
    "## Problem 4: Argmin"
   ]
  },
  {
   "cell_type": "code",
   "execution_count": 7,
   "id": "b68b58b8",
   "metadata": {},
   "outputs": [],
   "source": [
    "def argmin(x):                                     ### define function with 1 parameter (list)\n",
    "    y = 0                                          ### define placeholder for minimum index value\n",
    "    for i in range(0, (len(x)-1)):                 ### loop for comparison of each adjacent index\n",
    "        if x[i + 1] < x[i] and x[i + 1] < x[y]:    ### I believe I adhered to your injunction to avoid 2 loops\n",
    "            y = i + 1\n",
    "    return y"
   ]
  },
  {
   "cell_type": "code",
   "execution_count": 8,
   "id": "3edafd33",
   "metadata": {},
   "outputs": [
    {
     "name": "stdout",
     "output_type": "stream",
     "text": [
      "The index of the minimum value of list 1 is 6.\n",
      "The index of the minimum value of list 2 is 0.\n",
      "The index of the minimum value of list 3 is 2.\n"
     ]
    }
   ],
   "source": [
    "list1 = [9.8, 7.4, 5.6, 4.8, 4.8, 5.3, 4.1, 9.6, 5.4]\n",
    "list2 = [3.4, 7.6, 8.7, 7.5, 9.8, 7.5, 6.7, 8.7, 8.4]\n",
    "list3 = ['St. Louis', 'Kansas City', 'Chicago', 'Little Rock', 'Omaha']\n",
    "\n",
    "print(f'The index of the minimum value of list 1 is {argmin(list1)}.')\n",
    "print(f'The index of the minimum value of list 2 is {argmin(list2)}.')\n",
    "print(f'The index of the minimum value of list 3 is {argmin(list3)}.')"
   ]
  },
  {
   "cell_type": "markdown",
   "id": "7596b662",
   "metadata": {},
   "source": [
    "## Problem 5: Find Smallest Elements "
   ]
  },
  {
   "cell_type": "code",
   "execution_count": 9,
   "id": "794cac02",
   "metadata": {},
   "outputs": [],
   "source": [
    "def find_smallest(x, n = None):                           ### define function      \n",
    "    \n",
    "    if n == None:                                         ### condition 1: returns smallest value not in list form\n",
    "        temp1 = x[0]                                      ### I became accustomed to this loop - I know I could use 'min' method for brevity in future\n",
    "        for i in range (0, (len(x)-1)):                   ### extra coding\n",
    "            if x[i + 1] < x[i] and x[i + 1] < temp1:      ### extra coding\n",
    "                temp1 = x[i + 1]                          ### could be temp1 = min(x)\n",
    "        return temp1   \n",
    "    \n",
    "    elif n > len(x):                                      ### condition 2: returns entire list sorted if n longer than list\n",
    "        temp1 = x.copy()                                  ### necessary?\n",
    "        temp1.sort()                                      ### unnecessary\n",
    "        return x                                          ### could've just had:   temp1 = x; return x\n",
    "    \n",
    "    else:                                                 ### condition 3: returns partial sorted list shorter than n\n",
    "        temp1 = x.copy()                                  ### copy list without referencing list data from original list\n",
    "        temp1.sort()                                      ### obvious\n",
    "        temp1 = temp1[:n]                                 ### slice\n",
    "        return temp1"
   ]
  },
  {
   "cell_type": "code",
   "execution_count": 10,
   "id": "e7adfec1",
   "metadata": {},
   "outputs": [
    {
     "name": "stdout",
     "output_type": "stream",
     "text": [
      "17\n",
      "[17]\n",
      "[17, 28]\n",
      "[17, 28, 28, 39, 53]\n",
      "[39, 74, 28, 64, 17, 28, 54, 53]\n"
     ]
    }
   ],
   "source": [
    "my_list = [39, 74, 28, 64, 17, 28, 54, 53]\n",
    "print(find_smallest(my_list))\n",
    "print(find_smallest(my_list,1))\n",
    "print(find_smallest(my_list,2))\n",
    "print(find_smallest(my_list,5))\n",
    "print(find_smallest(my_list,12))"
   ]
  },
  {
   "cell_type": "markdown",
   "id": "2242ff5d",
   "metadata": {},
   "source": [
    "## Problem 6: Find Unique Elements "
   ]
  },
  {
   "cell_type": "code",
   "execution_count": 11,
   "id": "b121213a",
   "metadata": {},
   "outputs": [],
   "source": [
    "def unique(x):                     ### define function with 1 parameter (list)\n",
    "    temp = []                      ### create empty placeholder list\n",
    "    for i in range(0, len(x)):     ### loop over items in function/parameter list\n",
    "        if x[i] not in temp:       ### use Boolean conditional to check if given item already added to placeholder list\n",
    "            temp.append(x[i])      ### add unadded items to palceholder list\n",
    "            temp.sort()            ### sort list\n",
    "    return temp"
   ]
  },
  {
   "cell_type": "code",
   "execution_count": 12,
   "id": "b7e8cf17",
   "metadata": {},
   "outputs": [
    {
     "name": "stdout",
     "output_type": "stream",
     "text": [
      "[12, 14, 16, 19, 23]\n",
      "['bat', 'cat', 'dog', 'frog']\n"
     ]
    }
   ],
   "source": [
    "int_list = [23, 16, 23, 12, 14, 23, 12, 19, 19]\n",
    "str_list = ['cat', 'dog', 'dog', 'cat', 'bat', 'frog', 'dog', 'frog']\n",
    "print(unique(int_list))      \n",
    "print(unique(str_list)) "
   ]
  },
  {
   "cell_type": "markdown",
   "id": "c698402e",
   "metadata": {},
   "source": [
    "## Problem 7: Frequency Distribution "
   ]
  },
  {
   "cell_type": "code",
   "execution_count": 13,
   "id": "6c152488",
   "metadata": {},
   "outputs": [],
   "source": [
    "def freq_dist(x):                         ### create function with 1 parameter (list)\n",
    "    \n",
    "    global count                          ### unnecessary had I left print command within function\n",
    "    global values                         ### unnecessary had I left print command within function\n",
    "    \n",
    "    values = []                           ### create 1st empty list for tuple output\n",
    "    for i in range(0, len(x)):            ### loop over parameter list\n",
    "        if x[i] not in values:            ### use Boolean conditional to check if given item already added to placeholder list\n",
    "            values.append(x[i])           ### add unadded items to palceholder list\n",
    "            values.sort()                 ### sort list\n",
    "            \n",
    "    count = []                            ### create 2nd empty list for tuple output\n",
    "    for j in range(0, len(values)):       ### loop over first created list\n",
    "        temp = 0                          ### create quantity counter\n",
    "        for k in range(0,len(x)):         ### nested loop to check for incidences of same values in indices of first created list\n",
    "            if x[k] == values[j]:         ### use Boolean conditional to add to quantity placeholder list\n",
    "                temp += 1                 ### add if conditional met\n",
    "        count.append(temp)                ### add second list to tuple\n",
    "    return values, count\n",
    "\n",
    "### I had chosen to include print in function - not explicitly requested to put in next cell.\n",
    "### However I did read in Datacamp it sometimes best to not print from functions but I don't see that it matters since \n",
    "### I've returned both count and values as global values.\n",
    "### return (print(f'{\"Unique Values: \"}{values}{chr(10)}{\"Frequencies:   \"}{count}'))    "
   ]
  },
  {
   "cell_type": "code",
   "execution_count": 14,
   "id": "65cf1e7e",
   "metadata": {},
   "outputs": [
    {
     "name": "stdout",
     "output_type": "stream",
     "text": [
      "Unique Values: ['A', 'B', 'C', 'D', 'F']\n",
      "Frequencies:   [6, 8, 5, 5, 3]\n"
     ]
    }
   ],
   "source": [
    "grades = ['A', 'D', 'A', 'C', 'B', 'F', 'A', 'D', 'C', 'B', 'F', 'A', 'C', 'B', 'A', 'B', 'B', 'C', 'B', 'F', 'D', 'D', 'A', 'C', 'B', 'B', 'D']\n",
    "\n",
    "freq_dist(grades)\n",
    "print(f'{\"Unique Values: \"}{values}{chr(10)}{\"Frequencies:   \"}{count}')    ### called global values"
   ]
  },
  {
   "cell_type": "markdown",
   "id": "5d8103f6",
   "metadata": {},
   "source": [
    "## Problem 8: Weighed Means"
   ]
  },
  {
   "cell_type": "code",
   "execution_count": 15,
   "id": "620e385c",
   "metadata": {},
   "outputs": [],
   "source": [
    "def mean(x, w = None):                                 ### define function with 2 parameters, 2nd is a default\n",
    "    mean_sum = 0                                       ### create placeholder for mean\n",
    "    \n",
    "    if w == None:                                      ### condition 1: claculate and print standard mean\n",
    "        mean_sum = sum(x)/len(x)\n",
    "        print(f'{\"Standard Mean: \"}{mean_sum}')\n",
    "        \n",
    "    else:                                              ### condition 2: claculate and print weighted mean\n",
    "        a = 0                                          ### counter for list\n",
    "        for i in range (0,len(x)):                     ### loop over list\n",
    "            a += x[i] * w[i]                           ### product and sum of xn & wn \n",
    "        mean_sum = a/len(w)                            ### calculate mean\n",
    "        print(f'{\"Weighted Mean: \"}{mean_sum}')\n",
    "\n",
    "### I could have returned two values but since it was not explicitly requested, I placed print commands within the function"
   ]
  },
  {
   "cell_type": "code",
   "execution_count": 16,
   "id": "73783a89",
   "metadata": {},
   "outputs": [
    {
     "name": "stdout",
     "output_type": "stream",
     "text": [
      "Standard Mean: 4.9\n",
      "Weighted Mean: 8.3\n"
     ]
    }
   ],
   "source": [
    "values = [4, 7, 3, 5, 2, 6, 8, 2, 4, 8]\n",
    "weights = [2, 1, 3, 1, 2, 3, 1, 4, 2, 1]\n",
    "\n",
    "mean(values)\n",
    "mean(values, weights)"
   ]
  }
 ],
 "metadata": {
  "kernelspec": {
   "display_name": "Python 3 (ipykernel)",
   "language": "python",
   "name": "python3"
  },
  "language_info": {
   "codemirror_mode": {
    "name": "ipython",
    "version": 3
   },
   "file_extension": ".py",
   "mimetype": "text/x-python",
   "name": "python",
   "nbconvert_exporter": "python",
   "pygments_lexer": "ipython3",
   "version": "3.12.3"
  }
 },
 "nbformat": 4,
 "nbformat_minor": 5
}
