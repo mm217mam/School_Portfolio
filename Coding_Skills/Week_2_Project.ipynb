{
 "cells": [
  {
   "cell_type": "markdown",
   "id": "a4519658-d384-45c1-b63f-93e6aacef8ea",
   "metadata": {},
   "source": [
    "# Week 1-2 Project\n",
    "    - pandas\n",
    "    - import files\n",
    "    - head, tail\n",
    "    - dataframes, separating dataframe columns into lists\n",
    "    - using empty lists, nested loops, if statements, temp variables and append"
   ]
  },
  {
   "cell_type": "code",
   "execution_count": 1,
   "id": "750c3bbd",
   "metadata": {},
   "outputs": [
    {
     "data": {
      "text/html": [
       "<div>\n",
       "<style scoped>\n",
       "    .dataframe tbody tr th:only-of-type {\n",
       "        vertical-align: middle;\n",
       "    }\n",
       "\n",
       "    .dataframe tbody tr th {\n",
       "        vertical-align: top;\n",
       "    }\n",
       "\n",
       "    .dataframe thead th {\n",
       "        text-align: right;\n",
       "    }\n",
       "</style>\n",
       "<table border=\"1\" class=\"dataframe\">\n",
       "  <thead>\n",
       "    <tr style=\"text-align: right;\">\n",
       "      <th></th>\n",
       "      <th>country</th>\n",
       "      <th>year</th>\n",
       "      <th>continent</th>\n",
       "      <th>population</th>\n",
       "      <th>life_exp</th>\n",
       "      <th>gdp_per_cap</th>\n",
       "      <th>gini</th>\n",
       "    </tr>\n",
       "  </thead>\n",
       "  <tbody>\n",
       "    <tr>\n",
       "      <th>0</th>\n",
       "      <td>Afghanistan</td>\n",
       "      <td>1800</td>\n",
       "      <td>asia</td>\n",
       "      <td>3280000</td>\n",
       "      <td>28.2</td>\n",
       "      <td>603</td>\n",
       "      <td>30.5</td>\n",
       "    </tr>\n",
       "    <tr>\n",
       "      <th>1</th>\n",
       "      <td>Albania</td>\n",
       "      <td>1800</td>\n",
       "      <td>europe</td>\n",
       "      <td>410000</td>\n",
       "      <td>35.4</td>\n",
       "      <td>667</td>\n",
       "      <td>38.9</td>\n",
       "    </tr>\n",
       "    <tr>\n",
       "      <th>2</th>\n",
       "      <td>Algeria</td>\n",
       "      <td>1800</td>\n",
       "      <td>africa</td>\n",
       "      <td>2500000</td>\n",
       "      <td>28.8</td>\n",
       "      <td>715</td>\n",
       "      <td>56.2</td>\n",
       "    </tr>\n",
       "    <tr>\n",
       "      <th>3</th>\n",
       "      <td>Angola</td>\n",
       "      <td>1800</td>\n",
       "      <td>africa</td>\n",
       "      <td>1570000</td>\n",
       "      <td>27.0</td>\n",
       "      <td>618</td>\n",
       "      <td>57.2</td>\n",
       "    </tr>\n",
       "    <tr>\n",
       "      <th>4</th>\n",
       "      <td>Antigua and Barbuda</td>\n",
       "      <td>1800</td>\n",
       "      <td>americas</td>\n",
       "      <td>37000</td>\n",
       "      <td>33.5</td>\n",
       "      <td>757</td>\n",
       "      <td>40.0</td>\n",
       "    </tr>\n",
       "    <tr>\n",
       "      <th>5</th>\n",
       "      <td>Argentina</td>\n",
       "      <td>1800</td>\n",
       "      <td>americas</td>\n",
       "      <td>534000</td>\n",
       "      <td>33.2</td>\n",
       "      <td>1510</td>\n",
       "      <td>47.7</td>\n",
       "    </tr>\n",
       "    <tr>\n",
       "      <th>6</th>\n",
       "      <td>Armenia</td>\n",
       "      <td>1800</td>\n",
       "      <td>europe</td>\n",
       "      <td>413000</td>\n",
       "      <td>34.0</td>\n",
       "      <td>514</td>\n",
       "      <td>31.5</td>\n",
       "    </tr>\n",
       "    <tr>\n",
       "      <th>7</th>\n",
       "      <td>Australia</td>\n",
       "      <td>1800</td>\n",
       "      <td>asia</td>\n",
       "      <td>351000</td>\n",
       "      <td>34.0</td>\n",
       "      <td>814</td>\n",
       "      <td>38.7</td>\n",
       "    </tr>\n",
       "    <tr>\n",
       "      <th>8</th>\n",
       "      <td>Austria</td>\n",
       "      <td>1800</td>\n",
       "      <td>europe</td>\n",
       "      <td>3210000</td>\n",
       "      <td>34.4</td>\n",
       "      <td>1850</td>\n",
       "      <td>33.4</td>\n",
       "    </tr>\n",
       "    <tr>\n",
       "      <th>9</th>\n",
       "      <td>Azerbaijan</td>\n",
       "      <td>1800</td>\n",
       "      <td>europe</td>\n",
       "      <td>880000</td>\n",
       "      <td>29.2</td>\n",
       "      <td>775</td>\n",
       "      <td>70.5</td>\n",
       "    </tr>\n",
       "  </tbody>\n",
       "</table>\n",
       "</div>"
      ],
      "text/plain": [
       "               country  year continent  population  life_exp  gdp_per_cap  \\\n",
       "0          Afghanistan  1800      asia     3280000      28.2          603   \n",
       "1              Albania  1800    europe      410000      35.4          667   \n",
       "2              Algeria  1800    africa     2500000      28.8          715   \n",
       "3               Angola  1800    africa     1570000      27.0          618   \n",
       "4  Antigua and Barbuda  1800  americas       37000      33.5          757   \n",
       "5            Argentina  1800  americas      534000      33.2         1510   \n",
       "6              Armenia  1800    europe      413000      34.0          514   \n",
       "7            Australia  1800      asia      351000      34.0          814   \n",
       "8              Austria  1800    europe     3210000      34.4         1850   \n",
       "9           Azerbaijan  1800    europe      880000      29.2          775   \n",
       "\n",
       "   gini  \n",
       "0  30.5  \n",
       "1  38.9  \n",
       "2  56.2  \n",
       "3  57.2  \n",
       "4  40.0  \n",
       "5  47.7  \n",
       "6  31.5  \n",
       "7  38.7  \n",
       "8  33.4  \n",
       "9  70.5  "
      ]
     },
     "execution_count": 1,
     "metadata": {},
     "output_type": "execute_result"
    }
   ],
   "source": [
    "# import dataset and show head\n",
    "import pandas as pd\n",
    "df = pd.read_csv('gapminder_data.txt', sep = '\\t')\n",
    "df.head(10)"
   ]
  },
  {
   "cell_type": "code",
   "execution_count": 2,
   "id": "5d5f1118",
   "metadata": {},
   "outputs": [],
   "source": [
    "# separate dataframe columns into lists\n",
    "country = df.country.to_list()\n",
    "continent = df.continent.to_list()\n",
    "year = df.year.to_list()\n",
    "population = df.population.to_list()\n",
    "life_exp = df.life_exp.to_list()\n",
    "pcgdp = df.gdp_per_cap.to_list()\n",
    "gini = df.gini.to_list()"
   ]
  },
  {
   "cell_type": "code",
   "execution_count": 3,
   "id": "d7bad3da",
   "metadata": {},
   "outputs": [
    {
     "name": "stdout",
     "output_type": "stream",
     "text": [
      "Country:  Syria\n",
      "Continent:  asia\n",
      "Year:  1810\n",
      "Population:  1340000\n",
      "Life Expectancy:  31.1\n",
      "Per Capita GDP:  1080\n",
      "Gini Index:  46.5\n"
     ]
    }
   ],
   "source": [
    "N = 2000\n",
    "print('Country: ', country[N])\n",
    "print('Continent: ', continent[N])\n",
    "print('Year: ', year[N])\n",
    "print('Population: ', population[N])\n",
    "print('Life Expectancy: ', life_exp[N])\n",
    "print('Per Capita GDP: ', pcgdp[N])\n",
    "print('Gini Index: ', gini[N])\n"
   ]
  },
  {
   "cell_type": "markdown",
   "id": "fd2a906a",
   "metadata": {},
   "source": [
    "# Part 1: Displaying Past 20 Years of US Data\n",
    "Display the last 20 years of the data for all lists extracted from the dataframe."
   ]
  },
  {
   "cell_type": "code",
   "execution_count": 4,
   "id": "173bb4b3",
   "metadata": {},
   "outputs": [
    {
     "name": "stdout",
     "output_type": "stream",
     "text": [
      "Year\tCountry\t\tPopulation\tLExp\tpcGDP\tGini\n",
      "------------------------------------------------------------\n",
      "1999\tUnited States\t279,000,000\t76.8\t44,700\t40.5\n",
      "2000\tUnited States\t282,000,000\t76.9\t46,000\t40.5\n",
      "2001\tUnited States\t285,000,000\t77.0\t46,000\t40.5\n",
      "2002\tUnited States\t288,000,000\t77.1\t46,400\t40.5\n",
      "2003\tUnited States\t290,000,000\t77.3\t47,300\t40.5\n",
      "2004\tUnited States\t293,000,000\t77.5\t48,600\t40.6\n",
      "2005\tUnited States\t295,000,000\t77.7\t49,800\t40.7\n",
      "2006\tUnited States\t298,000,000\t77.9\t50,600\t40.8\n",
      "2007\tUnited States\t301,000,000\t78.1\t51,000\t40.8\n",
      "2008\tUnited States\t303,000,000\t78.3\t50,400\t40.8\n",
      "2009\tUnited States\t306,000,000\t78.6\t48,600\t40.7\n",
      "2010\tUnited States\t309,000,000\t78.7\t49,400\t40.7\n",
      "2011\tUnited States\t311,000,000\t78.8\t49,800\t40.7\n",
      "2012\tUnited States\t313,000,000\t78.9\t50,500\t40.8\n",
      "2013\tUnited States\t316,000,000\t78.9\t51,000\t41.0\n",
      "2014\tUnited States\t318,000,000\t78.9\t51,800\t41.2\n",
      "2015\tUnited States\t320,000,000\t78.8\t52,800\t41.3\n",
      "2016\tUnited States\t322,000,000\t78.8\t53,300\t41.4\n",
      "2017\tUnited States\t324,000,000\t79.0\t54,200\t41.5\n",
      "2018\tUnited States\t327,000,000\t79.1\t54,900\t41.5\n"
     ]
    }
   ],
   "source": [
    "print('Year\\tCountry\\t\\tPopulation\\tLExp\\tpcGDP\\tGini')\n",
    "print('------------------------------------------------------------')\n",
    "for index in range(0, len(year)):\n",
    "    if year[index] >= 1999 and country[index] == 'United States':\n",
    "       # print(str(year[index]) + '\\t' + country[index] + '\\t' + str(population[index]) + '\\t' + str(life_exp[index]) + '\\t' + str(pcgdp[index]) + '\\t' + str(gini[index]))\n",
    "        print(f'{year[index]}\\t{country[index]}\\t{population[index]:,}\\t{life_exp[index]}\\t{pcgdp[index]:,}\\t{gini[index]}')"
   ]
  },
  {
   "cell_type": "markdown",
   "id": "3d10b44d",
   "metadata": {},
   "source": [
    "# Part 2: Selecting the 2018 Data\n",
    "The data for all lists from filtered by year = 2018 will be entered into new lists using a loop and conditional if statement.\n"
   ]
  },
  {
   "cell_type": "code",
   "execution_count": 5,
   "id": "a3344f0f",
   "metadata": {},
   "outputs": [],
   "source": [
    "country_2018 = []\n",
    "population_2018 = []\n",
    "continent_2018 = []\n",
    "life_exp_2018 = []\n",
    "pcgdp_2018 = []\n",
    "gini_2018 = []\n",
    "\n",
    "for index in range (0, len(year)):\n",
    "    if year[index] == 2018:\n",
    "        country_2018.append(country[index])\n",
    "        population_2018.append(population[index])\n",
    "        continent_2018.append(continent[index])\n",
    "        life_exp_2018.append(life_exp[index])\n",
    "        pcgdp_2018.append(pcgdp[index])\n",
    "        gini_2018.append(gini[index])\n",
    "\n",
    "# length of all lists confirmed to = 184"
   ]
  },
  {
   "cell_type": "code",
   "execution_count": 6,
   "id": "ac0ceeed",
   "metadata": {},
   "outputs": [
    {
     "name": "stdout",
     "output_type": "stream",
     "text": [
      "The global population in 2018 was 7,595,200,200.\n"
     ]
    }
   ],
   "source": [
    "print(f'The global population in 2018 was {sum(population_2018):,}.')"
   ]
  },
  {
   "cell_type": "markdown",
   "id": "e9370f68",
   "metadata": {},
   "source": [
    "# Part 3: Identifying Countries with Largest and Smallest Populations\n",
    "The countries with the largest and smallest populations are displayed using the sorting function and index values of a copied lists."
   ]
  },
  {
   "cell_type": "code",
   "execution_count": 7,
   "id": "f8fa5ae9",
   "metadata": {},
   "outputs": [
    {
     "name": "stdout",
     "output_type": "stream",
     "text": [
      "Countries with Largest Populations in 2018\n",
      "--------------------------------------------------------\n",
      "The population of Bangladesh in 2018 was 166,000,000.\n",
      "The population of Brazil in 2018 was 211,000,000.\n",
      "The population of China in 2018 was 1,420,000,000.\n",
      "The population of India in 2018 was 1,350,000,000.\n",
      "The population of Indonesia in 2018 was 267,000,000.\n",
      "The population of Mexico in 2018 was 131,000,000.\n",
      "The population of Nigeria in 2018 was 196,000,000.\n",
      "The population of Pakistan in 2018 was 201,000,000.\n",
      "The population of Russia in 2018 was 144,000,000.\n",
      "The population of United States in 2018 was 327,000,000.\n"
     ]
    }
   ],
   "source": [
    "# sort and verify highest value\n",
    "population_2018_sorted = sorted(population_2018, reverse = True)\n",
    "# verify correct sorting: print(population_2018_sorted[0])\n",
    "\n",
    "# index largest 10 values\n",
    "largest = population_2018_sorted[9]\n",
    "\n",
    "print('Countries with Largest Populations in 2018')\n",
    "print('--------------------------------------------------------')\n",
    "\n",
    "for i in range (0, len(country_2018)):\n",
    "    if population_2018[i] >= largest:\n",
    "        print(f'The population of {country_2018[i]} in 2018 was {population_2018[i]:,}.')"
   ]
  },
  {
   "cell_type": "code",
   "execution_count": 8,
   "id": "6846ddc4",
   "metadata": {},
   "outputs": [
    {
     "name": "stdout",
     "output_type": "stream",
     "text": [
      "       Countries with Largest Populations in 2018\n",
      "----------------------------------------------------------\n",
      "The population of Bangladesh    in 2018 was   166,000,000.\n",
      "The population of Brazil        in 2018 was   211,000,000.\n",
      "The population of China         in 2018 was 1,420,000,000.\n",
      "The population of India         in 2018 was 1,350,000,000.\n",
      "The population of Indonesia     in 2018 was   267,000,000.\n",
      "The population of Mexico        in 2018 was   131,000,000.\n",
      "The population of Nigeria       in 2018 was   196,000,000.\n",
      "The population of Pakistan      in 2018 was   201,000,000.\n",
      "The population of Russia        in 2018 was   144,000,000.\n",
      "The population of United States in 2018 was   327,000,000.\n"
     ]
    }
   ],
   "source": [
    "# Alternate formatting\n",
    "print('       Countries with Largest Populations in 2018')\n",
    "print('----------------------------------------------------------')\n",
    "\n",
    "for i in range (0, len(country_2018)):\n",
    "    if population_2018[i] >= largest:\n",
    "        print(f'The population of {country_2018[i]:<13} in 2018 was {population_2018[i]:>13,}.')"
   ]
  },
  {
   "cell_type": "code",
   "execution_count": 9,
   "id": "b63041a1",
   "metadata": {},
   "outputs": [
    {
     "name": "stdout",
     "output_type": "stream",
     "text": [
      "           Countries with Smallest Populations in 2018\n",
      "---------------------------------------------------------------------\n",
      "The population of Antigua and Barbuda            in 2018 was 103,000.\n",
      "The population of Grenada                        in 2018 was 108,000.\n",
      "The population of Kiribati                       in 2018 was 118,000.\n",
      "The population of Micronesia, Fed. Sts.          in 2018 was 106,000.\n",
      "The population of Samoa                          in 2018 was 198,000.\n",
      "The population of Sao Tome and Principe          in 2018 was 209,000.\n",
      "The population of Seychelles                     in 2018 was  95,200.\n",
      "The population of St. Lucia                      in 2018 was 180,000.\n",
      "The population of St. Vincent and the Grenadines in 2018 was 110,000.\n",
      "The population of Tonga                          in 2018 was 109,000.\n"
     ]
    }
   ],
   "source": [
    "# verify smallest value\n",
    "# print(population_2018_sorted[-1])\n",
    "\n",
    "# index smallest 10 values\n",
    "smallest = population_2018_sorted[-10]\n",
    "\n",
    "print('           Countries with Smallest Populations in 2018')\n",
    "print('---------------------------------------------------------------------')\n",
    "\n",
    "for i in range (0, len(country_2018)):\n",
    "    if population_2018[i] <= smallest:\n",
    "        print(f'The population of {country_2018[i]:<30} in 2018 was {population_2018[i]:>7,}.')"
   ]
  },
  {
   "cell_type": "markdown",
   "id": "c2dbc8c6",
   "metadata": {},
   "source": [
    "# Part 4: Identifying Countries with Highest and Lowest Life Expectancies\n",
    "The countries with the largest and smallest life expectancies are displayed using the sorting function and index values of a copied lists."
   ]
  },
  {
   "cell_type": "code",
   "execution_count": 10,
   "id": "e98a828c",
   "metadata": {},
   "outputs": [
    {
     "name": "stdout",
     "output_type": "stream",
     "text": [
      "  Countries with Highest Life Expectancy in 2018\n",
      "----------------------------------------------------\n",
      "The life expectancy of Australia   in 2018 was 82.9.\n",
      "The life expectancy of France      in 2018 was 82.6.\n",
      "The life expectancy of Iceland     in 2018 was 82.6.\n",
      "The life expectancy of Israel      in 2018 was 82.4.\n",
      "The life expectancy of Italy       in 2018 was 82.6.\n",
      "The life expectancy of Japan       in 2018 was 84.2.\n",
      "The life expectancy of Luxembourg  in 2018 was 82.4.\n",
      "The life expectancy of Norway      in 2018 was 82.4.\n",
      "The life expectancy of Singapore   in 2018 was 84.0.\n",
      "The life expectancy of Spain       in 2018 was 83.2.\n",
      "The life expectancy of Sweden      in 2018 was 82.4.\n",
      "The life expectancy of Switzerland in 2018 was 83.5.\n"
     ]
    }
   ],
   "source": [
    "# sort and verify highest value\n",
    "life_exp_2018_sorted = sorted(life_exp_2018, reverse = True)\n",
    "# print(f'Highest: {life_exp_2018_sorted[0]}')\n",
    "\n",
    "# index largest values\n",
    "highest = life_exp_2018_sorted[9]\n",
    "\n",
    "print('  Countries with Highest Life Expectancy in 2018')\n",
    "print('----------------------------------------------------')\n",
    "\n",
    "for i in range (0, len(country_2018)):\n",
    "    if life_exp_2018[i] >= highest:\n",
    "        print(f'The life expectancy of {country_2018[i]:<12}in 2018 was {life_exp_2018[i]}.')"
   ]
  },
  {
   "cell_type": "code",
   "execution_count": 11,
   "id": "8d914c03",
   "metadata": {},
   "outputs": [
    {
     "name": "stdout",
     "output_type": "stream",
     "text": [
      "        Countries with Lowest Life Expectancy in 2018\n",
      "-----------------------------------------------------------------\n",
      "The life expectancy of Afghanistan              in 2018 was 58.7.\n",
      "The life expectancy of Central African Republic in 2018 was 51.6.\n",
      "The life expectancy of Chad                     in 2018 was 60.5.\n",
      "The life expectancy of Guinea-Bissau            in 2018 was 59.7.\n",
      "The life expectancy of Lesotho                  in 2018 was 51.1.\n",
      "The life expectancy of Sierra Leone             in 2018 was 60.0.\n",
      "The life expectancy of Somalia                  in 2018 was 58.0.\n",
      "The life expectancy of Swaziland                in 2018 was 58.6.\n",
      "The life expectancy of Zambia                   in 2018 was 59.5.\n",
      "The life expectancy of Zimbabwe                 in 2018 was 60.2.\n"
     ]
    }
   ],
   "source": [
    "# verify lowest value\n",
    "# print(f'Lowest: {life_exp_2018_sorted[-1]}')\n",
    "\n",
    "# index lowest 10 values\n",
    "lowest = life_exp_2018_sorted[-10]\n",
    "\n",
    "print('        Countries with Lowest Life Expectancy in 2018')\n",
    "print('-----------------------------------------------------------------')\n",
    "\n",
    "for i in range (0, len(country_2018)):\n",
    "    if life_exp_2018[i] <= lowest:\n",
    "        print(f'The life expectancy of {country_2018[i]:<24} in 2018 was {life_exp_2018[i]}.')"
   ]
  },
  {
   "cell_type": "markdown",
   "id": "dc84d5b2",
   "metadata": {},
   "source": [
    "# Part 5: Calculating GDP by Country\n",
    "The countries' GDPs will be extracted into a new list to find the sum as well as the largest and smallest GDPs by country using the sorting function and index values."
   ]
  },
  {
   "cell_type": "code",
   "execution_count": 12,
   "id": "24d0b3a1",
   "metadata": {},
   "outputs": [
    {
     "name": "stdout",
     "output_type": "stream",
     "text": [
      "The total global GDP in 2018 was $118,225,647,770,000.\n"
     ]
    }
   ],
   "source": [
    "# create list and populate it with a loop\n",
    "gdp_2018 = []\n",
    "for i in range (0, len(country_2018)):\n",
    "    gdp_2018.append(pcgdp_2018[i] * population_2018[i])\n",
    "    \n",
    "print(f'The total global GDP in 2018 was ${sum(gdp_2018):,}.')"
   ]
  },
  {
   "cell_type": "code",
   "execution_count": 13,
   "id": "b7243cbb",
   "metadata": {},
   "outputs": [
    {
     "name": "stdout",
     "output_type": "stream",
     "text": [
      "The country with the highest GDP in 2018 was China with a GDP of $22,720,000,000,000.\n",
      "The country with the lowest GDP in 2018 was Kiribati with a GDP of $223,020,000.\n"
     ]
    }
   ],
   "source": [
    "# skipping all the step by step commands and entering them straight to the print function\n",
    "# However, my step-by-step code is below\n",
    "\n",
    "#min_gdp = min(gdp_2018)\n",
    "#max_gdp = max(gdp_2018)\n",
    "#print(min_gdp)\n",
    "#print(max_gdp)\n",
    "\n",
    "#min_ind = index(min_gdp)\n",
    "#max_ind = index(max_gdp)\n",
    "#print(min_ind)\n",
    "#print(max_ind)\n",
    "\n",
    "#min_ind = gdp_2018.index(min(gdp_2018))\n",
    "#max_ind = gdp_2018.index(max(gdp_2018))\n",
    "\n",
    "# output using the stepwise above commands combined\n",
    "print(f'The country with the highest GDP in 2018 was {country_2018[gdp_2018.index(max(gdp_2018))]} with a GDP of ${gdp_2018[gdp_2018.index(max(gdp_2018))]:,}.')\n",
    "print(f'The country with the lowest GDP in 2018 was {country_2018[gdp_2018.index(min(gdp_2018))]} with a GDP of ${gdp_2018[gdp_2018.index(min(gdp_2018))]:,}.')"
   ]
  },
  {
   "cell_type": "markdown",
   "id": "d4061159",
   "metadata": {},
   "source": [
    "# Part 6: Grouping by Continent\n",
    "The total population, per capita GDP, and life expectancy by continent in 2018 will be calculated and displayed using empty lists, nested loops, if statements, temporary variables and the append function."
   ]
  },
  {
   "cell_type": "code",
   "execution_count": 14,
   "id": "73b1b8cb",
   "metadata": {},
   "outputs": [
    {
     "name": "stdout",
     "output_type": "stream",
     "text": [
      "Continent    Population      pcGDP    Life Exp\n",
      "----------------------------------------------\n",
      "Africa    1,287,150,200      4,700         0.0\n",
      "Americas  1,010,978,000     28,708         0.0\n",
      "Asia      4,455,113,000     12,705         0.0\n",
      "Europe      841,959,000     31,534         0.0\n"
     ]
    }
   ],
   "source": [
    "# Create an empty list of continent names and empty lists for the output.\n",
    "continent_names = ['africa', 'americas', 'asia', 'europe']\n",
    "pcgdp_2018_by_continent = []\n",
    "pop_2018_by_continent = []\n",
    "life_exp_2018_by_continent = [] \n",
    "\n",
    "# loop to populate the required variables\n",
    "for c in continent_names:\n",
    "    temp_life_exp = 0\n",
    "    temp_pop = 0\n",
    "    temp_gdp = 0\n",
    "    for j in range(0, len(population_2018)):\n",
    "        if continent_2018[j] == c:\n",
    "            temp_life_exp += life_exp_2018[j]\n",
    "            temp_pop += population_2018[j]\n",
    "            temp_gdp += gdp_2018[j]\n",
    "   \n",
    "    round(temp_gdp, 0)\n",
    "    round(temp_life_exp, 1)\n",
    "    pop_2018_by_continent.append(temp_pop)\n",
    "    pcgdp_2018_by_continent.append(temp_gdp/temp_pop)\n",
    "    life_exp_2018_by_continent.append(temp_life_exp/temp_pop)\n",
    "    \n",
    "\n",
    "print(f'{\"Continent\":<9}{\"Population\":>14}{\"pcGDP\":>11}{\"Life Exp\":>12}')\n",
    "print(46 * '-')\n",
    "for k in range (0, len(continent_names)):\n",
    "    print(f'{continent_names[k].capitalize():<9}{pop_2018_by_continent[k]:>14,}{pcgdp_2018_by_continent[k]:>11,.0f}{life_exp_2018_by_continent[k]:>12.1f}')"
   ]
  }
 ],
 "metadata": {
  "kernelspec": {
   "display_name": "Python 3 (ipykernel)",
   "language": "python",
   "name": "python3"
  },
  "language_info": {
   "codemirror_mode": {
    "name": "ipython",
    "version": 3
   },
   "file_extension": ".py",
   "mimetype": "text/x-python",
   "name": "python",
   "nbconvert_exporter": "python",
   "pygments_lexer": "ipython3",
   "version": "3.12.3"
  }
 },
 "nbformat": 4,
 "nbformat_minor": 5
}
